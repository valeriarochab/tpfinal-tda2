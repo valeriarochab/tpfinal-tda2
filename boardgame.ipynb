{
 "cells": [
  {
   "cell_type": "code",
   "execution_count": 2,
   "metadata": {},
   "outputs": [
    {
     "name": "stdout",
     "output_type": "stream",
     "text": [
      "Termino la carga del archivo y tiene 1003471 filas\n"
     ]
    }
   ],
   "source": [
    "import pandas as pd\n",
    "\n",
    "# Read the .feather file\n",
    "ratings_file = './bgg_ratings_top_2000.feather'\n",
    "df_ratings = pd.read_feather(ratings_file)\n",
    "\n",
    "# Drop the column you want to remove\n",
    "df_ratings.drop(columns=['comment', 'last_modified'], inplace=True)\n",
    "\n",
    "print(f'Termino la carga del archivo y tiene {len(df_ratings)} filas')"
   ]
  },
  {
   "cell_type": "code",
   "execution_count": 3,
   "metadata": {},
   "outputs": [],
   "source": [
    "# Read the .feather file\n",
    "boardgames_file = './bgg_boardgames_top_2000.feather'\n",
    "df_games = pd.read_feather(boardgames_file)\n",
    "\n",
    "# Drop the column you want to remove\n",
    "df_games.drop(columns=['comments', 'marketplace_history'], inplace=True)"
   ]
  },
  {
   "cell_type": "code",
   "execution_count": 4,
   "metadata": {},
   "outputs": [
    {
     "name": "stdout",
     "output_type": "stream",
     "text": [
      "La cantidad de filas es: 7772\n",
      "Los titulos distintos son: 1158\n"
     ]
    }
   ],
   "source": [
    "# Group boardgames_ids by nicknames\n",
    "nickNames = {}\n",
    "i = 0\n",
    "titles = {}\n",
    "for _, row in df_ratings.iterrows():\n",
    "    nickName = row['nickname']\n",
    "    boardgameId = row['boardgame_id']\n",
    "    title = row['title']\n",
    "    rating = row['rating']\n",
    "    own = row['own']\n",
    "    numPlays = row['num_of_plays']\n",
    "\n",
    "    if (own == 1 and rating > 9.0 and numPlays >= 10):\n",
    "        i += 1\n",
    "        if boardgameId not in titles:\n",
    "            titles[boardgameId] = title\n",
    "        if nickName not in nickNames:\n",
    "            nickNames[nickName] = set()\n",
    "        nickNames[nickName].add((boardgameId))\n",
    "\n",
    "print(f'La cantidad de filas es: {i}')\n",
    "print(f'Los titulos distintos son: {len(titles)}')"
   ]
  },
  {
   "cell_type": "code",
   "execution_count": 5,
   "metadata": {},
   "outputs": [
    {
     "name": "stdout",
     "output_type": "stream",
     "text": [
      "1149\n",
      "La cantidad de jugadores que solo cumplen con 1 juego son: 161\n"
     ]
    }
   ],
   "source": [
    "boardgamesData = {}\n",
    "j = 0\n",
    "for nickName, boardgames in nickNames.items():\n",
    "    if len(boardgames) < 2:\n",
    "        j += 1\n",
    "        continue\n",
    "    for boardgame in boardgames:\n",
    "        otherBoardGames  = [otherBoardGame for otherBoardGame in boardgames if otherBoardGame != boardgame]\n",
    "        if boardgame not in boardgamesData:\n",
    "            boardgamesData[boardgame] = otherBoardGames\n",
    "        else: \n",
    "            for otherBoardGame in otherBoardGames: \n",
    "                if otherBoardGame not in boardgamesData[boardgame]:\n",
    "                    boardgamesData[boardgame] += [otherBoardGame]\n",
    "print(f'{len(boardgamesData.keys())}')\n",
    "print(f'La cantidad de jugadores que solo cumplen con 1 juego son: {j}')"
   ]
  },
  {
   "cell_type": "code",
   "execution_count": 6,
   "metadata": {},
   "outputs": [],
   "source": [
    "rows = []\n",
    "boardgame_already_use = {}\n",
    "\n",
    "for boardgame, relatedBoardGames in boardgamesData.items():\n",
    "    boardgame_already_use[boardgame] = True\n",
    "    for relatedBoardGame in relatedBoardGames:\n",
    "        if relatedBoardGame in boardgame_already_use and boardgame in boardgamesData[relatedBoardGame]:\n",
    "            continue\n",
    "        else:\n",
    "            rows.append((titles[boardgame], titles[relatedBoardGame]))"
   ]
  },
  {
   "cell_type": "code",
   "execution_count": 7,
   "metadata": {},
   "outputs": [],
   "source": [
    "import csv\n",
    "\n",
    "# Escribir las filas en un archivo CSV\n",
    "with open('boardgame_otherboardgame2.csv', 'w', newline='') as archivo_csv:\n",
    "    escritor_csv = csv.writer(archivo_csv)\n",
    "    escritor_csv.writerow(['Source', 'Target'])  # Escribir encabezados\n",
    "    escritor_csv.writerows(rows)  # Escribir las filas"
   ]
  },
  {
   "cell_type": "code",
   "execution_count": 37,
   "metadata": {},
   "outputs": [],
   "source": [
    "class BoardGameRow:\n",
    "    def __init__(self, row):\n",
    "        self.id = row['boardgame_id']\n",
    "        self.title = row['title']\n",
    "        self.year = row['year_published']\n",
    "        self.minPlayers = row['minplayers']\n",
    "        self.maxPlayers = row['maxplayers']\n",
    "        self.age = row['age']\n",
    "        self.community = row['modularity_class']\n",
    "\n",
    "    def __str__(self):\n",
    "        return f'BoardGameRow(id={self.id}, title={self.title}, year={self.year}, minPlayers={self.minPlayers}, maxPlayers={self.maxPlayers}, age={self.age}, community={self.community})'\n",
    "    \n",
    "    def __repr__(self):\n",
    "        return str(self)"
   ]
  },
  {
   "cell_type": "code",
   "execution_count": 61,
   "metadata": {},
   "outputs": [
    {
     "name": "stdout",
     "output_type": "stream",
     "text": [
      "1999\n",
      "1103\n",
      "1146\n"
     ]
    }
   ],
   "source": [
    "# Step 1: Read CSV file into DataFrame\n",
    "csv_file = './boardgamesCommunities.csv'\n",
    "df_communities = pd.read_csv(csv_file)\n",
    "\n",
    "gamesInfo = {}\n",
    "\n",
    "df_result = pd.merge(df_communities, df_games, on='title')\n",
    "\n",
    "for _, row in df_result.iterrows():\n",
    "    gamesInfo[row['boardgame_id']] = BoardGameRow(row)\n",
    "\n",
    "    \n",
    "\n",
    "gamesInfo.items()\n",
    "print(len(df_games))\n",
    "print(len(df_result))\n",
    "print(len(df_communities))\n",
    "\n",
    "\n",
    "\n",
    "    \n",
    "\n",
    "#Cantidad de nodos  -- 1146 \n",
    "#Cantidad de aristas -- 40715\n",
    "#Diametro -- 4\n",
    "#Grado promedio -- 71\n",
    "#Coeficiente de clustering  -- 0.724\n",
    "#Puentes globales y locales\n",
    "#Analisis de centralidad\n",
    "#Comunidades  --  4\n",
    "#Homofilia\n",
    "#Roles\n",
    "#Motifs\n",
    "\n",
    "\n",
    "\n",
    "\n"
   ]
  }
 ],
 "metadata": {
  "kernelspec": {
   "display_name": "Python 3",
   "language": "python",
   "name": "python3"
  },
  "language_info": {
   "codemirror_mode": {
    "name": "ipython",
    "version": 3
   },
   "file_extension": ".py",
   "mimetype": "text/x-python",
   "name": "python",
   "nbconvert_exporter": "python",
   "pygments_lexer": "ipython3",
   "version": "3.10.12"
  }
 },
 "nbformat": 4,
 "nbformat_minor": 2
}
