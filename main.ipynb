{
 "cells": [
  {
   "cell_type": "code",
   "execution_count": 2,
   "metadata": {},
   "outputs": [
    {
     "name": "stdout",
     "output_type": "stream",
     "text": [
      "Termino la carga del archivo y tiene 755607 filas\n"
     ]
    }
   ],
   "source": [
    "import pandas as pd\n",
    "import networkx as nx\n",
    "import matplotlib.pyplot as plt\n",
    "\n",
    "# Step 1: Read CSV file into DataFrame\n",
    "csv_file = './reviews_airbnb.csv'\n",
    "df = pd.read_csv(csv_file)\n",
    "\n",
    "print(f'Termino la carga del archivo y tiene {len(df)} filas')\n",
    "\n",
    "\n",
    "\n",
    "\n"
   ]
  },
  {
   "cell_type": "code",
   "execution_count": 4,
   "metadata": {},
   "outputs": [
    {
     "name": "stdout",
     "output_type": "stream",
     "text": [
      "Hay 27389 airbnb\n",
      "Luego del filtrado hay 12879 airbnb\n"
     ]
    }
   ],
   "source": [
    "# Group reviewers by hosts\n",
    "host_reviewers = {}\n",
    "for _, row in df.iterrows():\n",
    "    host = row['listing_id']\n",
    "    reviewer_id = row['reviewer_id']\n",
    "    \n",
    "    # Update the dictionary with the reviewers for the current host\n",
    "    if host not in host_reviewers:\n",
    "        host_reviewers[host] = set()\n",
    "    host_reviewers[host].add(reviewer_id)\n",
    "\n",
    "print(f'Hay {len(host_reviewers.keys())} airbnb')\n",
    "\n",
    "hosts_to_exclude = []\n",
    "\n",
    "# Eliminar hosts que tenga menos de 5 reviews\n",
    "for host, reviews in host_reviewers.items():\n",
    "    if len(reviews) < 15:\n",
    "        hosts_to_exclude.append(host)\n",
    "\n",
    "for host in hosts_to_exclude:\n",
    "    del host_reviewers[host]\n",
    "\n",
    "print(f'Luego del filtrado hay {len(host_reviewers.keys())} airbnb')"
   ]
  },
  {
   "cell_type": "code",
   "execution_count": 5,
   "metadata": {},
   "outputs": [],
   "source": [
    "# Create an undirected graph\n",
    "G = nx.Graph()\n",
    "\n",
    "# Iterate through the hosts and their reviewers\n",
    "for host1, reviewers1 in host_reviewers.items():\n",
    "    for host2, reviewers2 in host_reviewers.items():\n",
    "        if host1 != host2:\n",
    "            # Calculate the number of shared reviewers between the two hosts\n",
    "            shared_reviewers = len(reviewers1.intersection(reviewers2))\n",
    "            if shared_reviewers > 0:\n",
    "                # Add an edge between the hosts with the weight equal to the number of shared reviewers\n",
    "                G.add_edge(host1, host2, weight=shared_reviewers)"
   ]
  },
  {
   "cell_type": "code",
   "execution_count": 6,
   "metadata": {},
   "outputs": [],
   "source": [
    "# Plot the graph\n",
    "plt.figure(figsize=(10, 6))\n",
    "pos = nx.spring_layout(G)  # Positions for all nodes\n",
    "nx.draw(G, pos, with_labels=True, node_size=2000, node_color='skyblue', font_size=10)\n",
    "# Draw edge labels\n",
    "edge_labels = nx.get_edge_attributes(G, 'weight')\n",
    "nx.draw_networkx_edge_labels(G, pos, edge_labels=edge_labels)\n",
    "plt.title('Hosts Graph with Shared Reviewers')\n",
    "plt.show()\n"
   ]
  }
 ],
 "metadata": {
  "kernelspec": {
   "display_name": "Python 3",
   "language": "python",
   "name": "python3"
  },
  "language_info": {
   "codemirror_mode": {
    "name": "ipython",
    "version": 3
   },
   "file_extension": ".py",
   "mimetype": "text/x-python",
   "name": "python",
   "nbconvert_exporter": "python",
   "pygments_lexer": "ipython3",
   "version": "3.10.12"
  }
 },
 "nbformat": 4,
 "nbformat_minor": 2
}
